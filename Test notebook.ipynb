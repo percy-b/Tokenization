{
 "cells": [
  {
   "cell_type": "code",
   "execution_count": 1,
   "id": "0b780f67",
   "metadata": {},
   "outputs": [],
   "source": [
    "from Tokenizer import BPETokenizer"
   ]
  },
  {
   "cell_type": "code",
   "execution_count": 2,
   "id": "12f8384e",
   "metadata": {},
   "outputs": [],
   "source": [
    "#a longer text\n",
    "text = \"\"\"Mikwano gyange bwoya gitera okumbuuza engeri amaaso gange agaali ag'empujjo gye \n",
    "gaateereeramu are ne bwe nakutuka ekiwalaata eky'embagirawo ekitaali mu lulyo ate \n",
    "n'ennyindo n'ensongola. Okubannyonnyola bino nga bwe byajja nali nteekwa okubawayiza \n",
    "ebyantuukako mu sematalo on owa jjo lya balamu bye nali nnyimye amazzi. Naye no bwe \n",
    "nabinyumizaako kagafumba ne nfabulago, bo kwe kuntayirira mbinyumizeeko n'abalala era \n",
    "baludde ddaaki ne bankuulamu omwasi.|<eos>| \n",
    "Be twasomanga nabo bammanyi nga Kakundugulu, erinnya lye bampaatiikako ne lisimba \n",
    "emmizi, ate bo bwe twazirwanako bammanyi nga Kasiribiti. Eby'e Kololo nga Sargent  ŋŋoŋo \n",
    "simusudde, Tororo, Giligiri, Mbagasi ne Gonda ebyo byo mbirekedde bannange abalala \n",
    "babirombojjeko naye ebyange nja kubitandikira mu nsi z’Abawalabu.|<eos>| \n",
    "Nga tumaze okukekeza ennyago mu nsi nnyingi, twatuuka mu nsi z’Abawarabu gye \n",
    "nnyingirira mu kitongole ekikessi. Bwe twamala okutendekebwa, okubangulwa era \n",
    "nokukenkusibwa mu katoola w’ebintu ne tubuuzibwa ebigezo ebyalumya buli omu \n",
    "ogwengulu. Bwe kityo nga abamu tumaze okubikuba oluku mu mutwe n'abalala nga \n",
    "bibatudde ku nfeete, Sargent Kwi Tamutaamu omuyugoyugo era eyali omugabe waffe Kopolo \n",
    "Monyo Odeku, Figo Mukombankuyege Kataayi, Palalemo Byomera, Ludyeku era nange \n",
    "kamwakoogera, twalondebwa mu gubinja gwa bantu nga kinaana tugende tukette mu bizinga \n",
    "bye Yugoyugo ebyetondese mu bwengula bweriyanja li Pasifika (Pacific Ocean) ebyali \n",
    "biwambiddwa aba Japan era kwe basinziiranga okutagenya amaato ga b'amawanga \n",
    "amagatte. Okuggyako nze, bannange bonna baali njasabiggu za basajja abatayisikamu maaso \n",
    "wadde okuwetwamu ennoga.|<eos>| \n",
    "Bwe twatuula mu nnyanja ye Buyindi (Indian Ocean) ne tumaamulwako ebyambalo \n",
    "by’eKiwarabu byonna era manalevu gaffe ge twali tutandise okunyumirwa ne galugenda. \n",
    "Twayambazibwa ebyambalo byekirunnyanja ne tuzzibwa ne mulyato eddala ery’ekika \n",
    "ekirawunyi. Mu kutyekula emisinde nga lino eryato lye lisinga amalala gonna agaali awo. \n",
    "Omuyaga oba engezi bwe byabanga tebiriboyaanya oba okulisunda oba okulizinyisa oluguje, \n",
    "nga tukkirizibwa okudaaladaalako waggulu ku lyo naye naye nga tetukkirizibwa kulasa \n",
    "mboozi wadde okuwaya n’omulunnyanja yenna. Kye siyinza kwerabira gwe muyaga oguli ku \n",
    "nnyanja eno anti buli kiseera nga gwesooza bwesooza.|<eos>| \n",
    "Nga tumaze ennaku nga tupekukira ku nnyanja eno, twayingirira eriyanja li kiri mulaala li \n",
    "Pasifika ate netuzzibwa ne mu gwato ogubuukirwako ennyonyi ogw’Abamerika. Olwo nno \n",
    "nga twenwanwagirizza ne mu byambalo by’Amerika. Ebyekijaasi bye bye baatunaanika bwe \n",
    "baatujjaako ebyekirunnyanja. Lumu ennyonyi za Japan nga ziwagirwa obwato bu lubbira \n",
    "zaalumba ne zitigomya ogwato ogwo okuva enkya okusuulira ddala enjuba, kyokka \n",
    "olwokutuntumula agazinga gaagwo obutasalako n’olwokuteregenya ennyo nga \n",
    "guwunjawunja ate nga nennyozi zaagwo engabo zigirumizza mannyo era nga zittunsa \n",
    "agakoomi gomukka okugusiikiriza, gwasobola okwerwanako okutuusa ekiyamba mumizi lwe \n",
    "kyagudduukirira ne guzeemululako ne gubula. Naye nga ddala kwali kuyita mu mannyo ga \n",
    "ntaggya. Ekiseera kyonna enkalu we zakalambirira nga ffe buli omu afuuyirira kanwe nti sso \n",
    "anaabuzzaako ddi eddiba ne twesoobolola ku lukokobe era ddala ku lukokere lwomulabe. \n",
    "Buli omu nno nga yezingiridde ekikoba ekiseeyeeyesa omuntu nga abadde agudde mu mazzi \n",
    "aleme okumira naye ate okusinga byonna aleme okusaanawo.|<eos>| \n",
    "Nga ennaku bbiri zeklungudde okuva ku olwo, enkoko yakwatwa mumwa ne tutwalibwa \n",
    "kinoomu mu maaso g’ofiisa eyali akkalidde ku mmeeza okwali entuutuli y’empapula. Nga \n",
    "akutunuulidde mu munye enkakaba, yakukemesanga olufubenje lwebibuuzo ebyajjanga \n",
    "bisindikagana era nga osuubirwa okubiddamu byonna nga bwe byakuyigirizibwa. \n",
    "Byatandikanga bwebiti: “Erinnyalyo ggwe ani? (Eryange nno eryekiyugoyugo lyali Pwi \n",
    "Zaalizaali) “Wazaalibwa wa era ddi? Kitaawo ne nyoko be bani?webalu oba baafa? “ Ku ebyo \n",
    "ngobuulizibwako kajojijoji webirala lutottoebikwata ku mpisa, obuwangwa, obulombolombo \n",
    "n’ennono z’ebika byabayugoyugo. Wano munnaffe Ludyeku akakusu we kaamulijjira enkalu \n",
    "ne kamutandaggira ennume yekigwo n’awambira era bwatyo teyeeyongera kulamaga naffe \n",
    "okuva wano.|<eos>| \n",
    "Enjuba nga egolooba, enviiri zaffe zaababirwa ne zisikibwa ziwanvuwe nga eza Bayugoyugo. \n",
    "Ekyo bwe kyaggwa ne twambala ebyambalo ebyekinnansi era ne balikkupu okwali amalobo \n",
    "n’amasanda bituziyize okuseerera. Bwe twamala okuwenjebwa balabe oba nga tetuliiko \n",
    "kayinza kutuloopa konna singa nga tugwa mu mikono gya ba kawenkene, twassibwa mu \n",
    "kaato akomuliro ne katandika okuwenyuka. Nga obudde bukunukkiriza akawozamasiga, \n",
    "akaato kaggyibwaamu omuliro ne katandika kuseeyeeyeza ku maanyi ga masannyalaze \n",
    "kasirise nnyo era kasoobo. Mu kiseera kyekimu twawulira okubwatuka kw'emizinga gyerimu \n",
    "ku maato gaffe nga gibunduggula amasasi ku mwalo ogwatuli ku ddyo mailo nga musanvu \n",
    "okuva we twaali, ate nga ku kkono waffe ennyonyi ziwandagaza ku lusiisira lwabajaasi \n",
    "b’omulabe.|<eos>| \n",
    "ESSUULA EYOKUBIRI: Nsimba Ekigere mu Yugoyugo\n",
    "Nga tumulisibwa okumyansa kw’emizinga n’okutulika kwa bbomu, twagenda nga \n",
    "twewagaanya mu lukono lw’ennyanja olubugiddwa agasenge g’enjazi ennangaavu ezeesimbye \n",
    "obulanga. Bwe twatuuka e kkomekkome w’olugomo olwo, munnaffe Taamutaamu yatagalala \n",
    "ku kaato akatengeetera, era nga akozesa obukugu obusukkirivu yakasuka omuguwa okwali \n",
    "empuluttulizo n’aloba ensoomi yomutwe ogwali ku lukolekole lw’ejjinja. Kino lya tulaga nti \n",
    "munnaffe yali lugo olumanyi embuzi emponge mu bitundu bino.   Ku muguwa guno kwe \n",
    "twawalampira kinoomu nga tuyambibwa balikkupu zaffe okutuusa ffenna lwe twaggwaayo. \n",
    "Bwe twatuuka waggulu buli omu nanaanulamu balikkupu ze ne tuzisuula mu kaato wansi \n",
    "ebifuba nga kkumi na bitaano okuva we twaali. Twanaanika mu bigere engatto zi-nkya ne \n",
    "tutambula mu lwakasota nga tugenda twewagaanya mu mpago zenjazi awamu nga tutandira \n",
    "nokulandira ku zo ate nga awalala nga tuyuuguumira tunyegerera ku mkiribi \n",
    "n’eŋŋongogongo zaago.|<eos>| \n",
    "Mu kawozamasiga twagguka ku liyumba eritimbaganye ebimli nga biriboyedde lyonna era \n",
    "nga nebimu bireebeetera mu kisasi. Mwali mwakamu etaala ensiikirize, kimpoowooze. \n",
    "Twaatambula kasoobo (twerinnyako) nga tugenda tulikiiba naye nga tuliyita kumpi ddala \n",
    "emabega wakakomera akaali kajjudde enkanaga ne kyukompoleze. Nga tweekiise eriyumba \n",
    "eriyumba eryo mu bwanga, twalengera abajaasi abaJapan babiri nga boogera biwanvuwanvu, \n",
    "omu ku bon go officer. Mu bye nasobola okunojjola mu lukunkumuli lwebigambo bye baal \n",
    "bafukumula, kyawulikika nga baali basowaganira naŋŋanda eyali afaabina nga bwasobola \n",
    "okubatawulula naye ng’afuuwa mukka mu kisero. |<eos>| \n",
    "Nga nyiimudde amaaso, nalaba ogusolo emabega waffe nga gutumezeeko. Gwabuuka \n",
    "enfunda ssatu zokka nga gwerippye dda ku lubugirizo lw’ekigaali. Gwansikulako Kataayi ku \n",
    "lusegere era nze okugenda okugezaako okumubakirira nga gwakuunye dda naye. Ekigaali \n",
    "tekyayimirira wadde okukendeeza ku misinde gyakyo era engeri gye kyesulikangamu nga \n",
    "kiweta ensonda, nga ekutabangula n’ebyenda are nga ddala tolowooza nti kinaddayo \n",
    "okutereera.  Naye nga tumazeeko obubirabira, omugoba yassa ekikkowe era nekisala ku \n",
    "mbiro zaakyo. Nga bwanyeenya omutwe yagamba nti, “Kino kitalo. Oyo munnaffe alugenze, \n",
    "jjagwa emulidde. Owa, obulamu buno buzibu!” Ensolo eno jjagwa etiibwa nnyo mu bitundu \n",
    "bino. Mu nkula nenfaanana eri wakati wa genge n’engo naye zombie ezireebeeseza wala mu \n",
    "maanyi, mu bukalabakalaba ne mu bukambwe. Abantu abali wakati w’enkumi ennya \n",
    "nenkumi ettaano be babweebweenebwa ensolo eno buli mwakaate abalala nga enkumi bbiri \n",
    "ne batirimbulwa ekisota ki tipitipi. Ekisot kino kikunguyivu nnyo era kifaananamu kaamuje. \n",
    "Kirina erinnyo liringa ejjindu lya sseggwanga are kya busagwa buyitirivu. Bwe kibojja \n",
    "omuntu afiirawo mbulaga ate bakibusalako busazi. Ekisingako ggwe kwe kukyesalako nga \n",
    "kyakakubojja sso notopaapaala bupaapaazi. Lugaba bwaba ng’akukwatiddeko oyinza \n",
    "okusumattuka  amagombe.|<eos>| \n",
    "Obudde buba busaasaana ne tuva ku kigaali ne tukwata akakubo akamawunjuwunju. \n",
    "Oluvannyuma lw’akatemerero, twaakavaamu ne tubandira mu nsiko. Obudde nga \n",
    "butangadde, twagguka mu kiwonvu ekyaali kumpi kyetooloddwa ebisozisozi kyonna, nga \n",
    "kirimu n’ogukonko omwali omugga ogutokota n’okusaala mu ngeri eyekitalo. Gwaali \n",
    "gwesengeseko agayinja n’enjazi ku mbangabanga zaagwo. Nalagibwa oluwokowoko mu jjinja \n",
    "okwali linnaalyo nga liryetengereddeko ng’erigenda okunegukako, ne ndagirwa nekukume \n",
    "omwo era nkozese ne byonna ebyalimu.|<eos>| \n",
    "Nze wano natandika okutya nga ndowooza nti oba nga abaJapan bawulidde omusinde \n",
    "gw’emmundu era nga bajja baguwondera, ddala nali mu katyabaga. Ate nendowooza nti \n",
    "omuwala bwanaddayo tajja kulema kulaalaasa bibaddewo era n’abantu abalala okubisansa ne \n",
    "bituuka ne ku ba kafulu. |<eos>| \n",
    "Nga nkyali mu birowoozo ebinnyogovu ng’ebyo ntongeza, Taamutaamu nagoba. Ddala \n",
    "yansala ku gwa kabugu. Yalabika nga munyiikaavu mpozzi olw’okunsanga n’omuwala. Naye \n",
    "sikutendera ngeri gye yatunulamu ng’amaasoge gagudde ku mutulumbi gwa jjagwa. \n",
    "Ng’ayasaamiridde, ensaya atadde, amaaso gakoonose mu kiwanga, yatunuulira jjagwa \n",
    "ng’anaagimira. Bwagigasimbulako nagazza ku ffe ate n’agigazzaako ate n’agazza. Ng’ali mu \n",
    "mbeera bwetyo, omuwala yevaamu namutegeeza byonna ebibaddewo. Yampomeka eriiso nga \n",
    "bwafuuwa ekiwa ng’akizza munda, ng’anyeenya n’omutwe, yagamba nti, “Oli musajja \n",
    "musajja wattu.” Yazza omuwala kubbali n’amukuba akaama. Oluvannyuma yajja nantegeeza \n",
    "nga bweyali agenda okuwerekera ki Wi (eryo lye lyali erinnya ly’omuwala) amuzzeeyo \n",
    "ewaabwe.|<eos>| |<endoftext>|]\"\"\""
   ]
  },
  {
   "cell_type": "code",
   "execution_count": 3,
   "id": "3ba3945c",
   "metadata": {},
   "outputs": [],
   "source": [
    "tokenizer = BPETokenizer.MyTokenizer(text, vocab_size=400, allowed_special=[\"|<endoftext>|\", \"|<eos>|\"], verbose=True)"
   ]
  },
  {
   "cell_type": "code",
   "execution_count": 4,
   "id": "a3ca03bb",
   "metadata": {},
   "outputs": [
    {
     "name": "stdout",
     "output_type": "stream",
     "text": [
      "Merging the 0th pair\n",
      "Merging the 100th pair\n",
      "tokens length:  9626\n",
      "ids length:  4750\n",
      "compression ratio: 2.03X\n"
     ]
    }
   ],
   "source": [
    "#training\n",
    "tokenizer.train()"
   ]
  },
  {
   "cell_type": "code",
   "execution_count": 5,
   "id": "74233d94",
   "metadata": {},
   "outputs": [
    {
     "name": "stdout",
     "output_type": "stream",
     "text": [
      "Length of original tokens:  14\n",
      "Length of tokens after handling special words:  14\n",
      "Length of tokens after merging:  12\n"
     ]
    },
    {
     "data": {
      "text/plain": [
       "[72, 101, 108, 108, 258, 320, 114, 108, 100, 33, 33, 33]"
      ]
     },
     "execution_count": 5,
     "metadata": {},
     "output_type": "execute_result"
    }
   ],
   "source": [
    "id_s = tokenizer.encode(\"Hello world!!!\")\n",
    "id_s"
   ]
  },
  {
   "cell_type": "code",
   "execution_count": 6,
   "id": "24479b24",
   "metadata": {},
   "outputs": [
    {
     "name": "stdout",
     "output_type": "stream",
     "text": [
      "Hello world!!!\n"
     ]
    }
   ],
   "source": [
    "text = tokenizer.decode(id_s)\n",
    "print(text)"
   ]
  },
  {
   "cell_type": "code",
   "execution_count": 7,
   "id": "7f71593d",
   "metadata": {},
   "outputs": [
    {
     "name": "stdout",
     "output_type": "stream",
     "text": [
      "Length of original tokens:  41\n",
      "Length of tokens after handling special words:  23\n",
      "Length of tokens after merging:  16\n",
      "[72, 101, 121, 32, 116, 104, 266, 257, 345, 71, 305, 98, 261, 101, 297, 400]\n"
     ]
    }
   ],
   "source": [
    "#with special tokens\n",
    "id_s2 = tokenizer.encode(\"Hey there |<eos>| Gyebaleko |<endoftext>|\")\n",
    "print(id_s2)"
   ]
  }
 ],
 "metadata": {
  "kernelspec": {
   "display_name": "Python 3 (ipykernel)",
   "language": "python",
   "name": "python3"
  },
  "language_info": {
   "codemirror_mode": {
    "name": "ipython",
    "version": 3
   },
   "file_extension": ".py",
   "mimetype": "text/x-python",
   "name": "python",
   "nbconvert_exporter": "python",
   "pygments_lexer": "ipython3",
   "version": "3.10.9"
  }
 },
 "nbformat": 4,
 "nbformat_minor": 5
}
